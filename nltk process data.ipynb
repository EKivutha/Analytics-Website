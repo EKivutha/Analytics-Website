{
  "nbformat": 4,
  "nbformat_minor": 0,
  "metadata": {
    "colab": {
      "name": "Untitled2.ipynb",
      "provenance": [],
      "authorship_tag": "ABX9TyOBNokwSr7y5JtLlxMDkUVL",
      "include_colab_link": true
    },
    "kernelspec": {
      "name": "python3",
      "display_name": "Python 3"
    },
    "language_info": {
      "name": "python"
    }
  },
  "cells": [
    {
      "cell_type": "markdown",
      "metadata": {
        "id": "view-in-github",
        "colab_type": "text"
      },
      "source": [
        "<a href=\"https://colab.research.google.com/github/EKivutha/Analytics-Website/blob/master/nltk%20process%20data.ipynb\" target=\"_parent\"><img src=\"https://colab.research.google.com/assets/colab-badge.svg\" alt=\"Open In Colab\"/></a>"
      ]
    },
    {
      "cell_type": "code",
      "execution_count": 12,
      "metadata": {
        "id": "Jr0Eok-LCdxW"
      },
      "outputs": [],
      "source": [
        "import pandas as pd\n",
        "import numpy as np\n",
        "from sklearn.feature_extraction.text import CountVectorizer, TfidfTransformer\n"
      ]
    },
    {
      "cell_type": "code",
      "source": [
        "!gdown http://archive.ics.uci.edu/ml/datasets/SMS+Spam+Collection"
      ],
      "metadata": {
        "colab": {
          "base_uri": "https://localhost:8080/"
        },
        "id": "S_LmXcUQEbDM",
        "outputId": "1a91cd12-92a6-46f4-ef4e-27d8f264a19e"
      },
      "execution_count": 13,
      "outputs": [
        {
          "output_type": "stream",
          "name": "stdout",
          "text": [
            "Downloading...\n",
            "From: http://archive.ics.uci.edu/ml/datasets/SMS+Spam+Collection\n",
            "To: /content/SMS+Spam+Collection\n",
            "\r0.00B [00:00, ?B/s]\r11.9kB [00:00, 41.3MB/s]\n"
          ]
        }
      ]
    },
    {
      "cell_type": "markdown",
      "source": [
        "http://archive.ics.uci.edu/ml/datasets/SMS+Spam+Collection"
      ],
      "metadata": {
        "id": "sirKlDZ5ES2R"
      }
    },
    {
      "cell_type": "code",
      "source": [
        "messages = []\n",
        "categories = []\n",
        "for line in open(\"/content/SMSSpamCollection\"):\n",
        "    category, message = line.split('\\t')\n",
        "    messages.append(message)\n",
        "    categories.append(category)\n",
        "\n",
        "y = np.array([0 if item==\"ham\" else 1 for item in categories])\n",
        " \n",
        "print()\n",
        "print (\" %d Not Spam\" % (y==0).sum())\n",
        "print (\"+ %d Spam\" % (y==1).sum())\n",
        "print (\" ---------\")\n",
        "print (\" %d Total\" % len(y))\n",
        "print() \n",
        "print (\"Proportion spam: %.2f/100\" % (100.*(y==1).sum() / float(len(y))))"
      ],
      "metadata": {
        "colab": {
          "base_uri": "https://localhost:8080/"
        },
        "id": "c2bb0OE9DO0s",
        "outputId": "b07d23e2-f1d3-4e4b-db29-b2d8370cc252"
      },
      "execution_count": 14,
      "outputs": [
        {
          "output_type": "stream",
          "name": "stdout",
          "text": [
            "\n",
            " 4827 Not Spam\n",
            "+ 747 Spam\n",
            " ---------\n",
            " 5574 Total\n",
            "\n",
            "Proportion spam: 13.40/100\n"
          ]
        }
      ]
    },
    {
      "cell_type": "code",
      "source": [
        "pattern ='(?u)\\\\b[A-Za-z]{3,}'\n",
        "\n",
        "cv = CountVectorizer(stop_words=None, token_pattern=pattern,\n",
        "                     ngram_range=(1, 3))\n",
        "C = cv.fit_transform(messages)\n",
        "\n",
        "tfidf = TfidfTransformer(sublinear_tf=True)\n",
        "#tfidf = TfidfVectorizer(sublinear_tf=True, max_df=0.5)\n",
        "                        \n",
        "#calculate features using tf-idf and create a training set \n",
        "X_train = tfidf.fit_transform(C)\n",
        "print ()\n",
        "print (\"X_train is a sparse matrix with shape: %s\" % str(X_train.shape))\n",
        "print()"
      ],
      "metadata": {
        "colab": {
          "base_uri": "https://localhost:8080/"
        },
        "id": "nMwyMLM9DP6f",
        "outputId": "95328a5c-f4b6-4725-cbbf-4eefe9336fa0"
      },
      "execution_count": 15,
      "outputs": [
        {
          "output_type": "stream",
          "name": "stdout",
          "text": [
            "\n",
            "X_train is a sparse matrix with shape: (5574, 83964)\n",
            "\n"
          ]
        }
      ]
    },
    {
      "cell_type": "code",
      "source": [
        "#create a list of training labels. 1 is spam, 0 if ham\n",
        "y_train = y\n",
        " \n",
        "print (\"y_train is a list of categories: %s ...\" % str(y_train)[:70])\n",
        "print (\"X_train has %d feature vectors\" % (X_train.shape[0]))\n",
        "print (\"y_train has %d target classes\" %(len(y_train)))\n",
        "print (\"dataset has %d rows\" %(len(messages)))\n",
        "print\n",
        " \n",
        "# create a Naive Bayes classifier\n",
        "from sklearn.naive_bayes import MultinomialNB\n",
        "clf = MultinomialNB()\n",
        " \n",
        "clf.fit(X_train, y_train)\n",
        "print (\"Trained MultinomialNB Classifier\")\n",
        "print (\"Coefficients: %s ...\" % (str(clf.coef_)[:70]))\n",
        "print (\"   Intercept: %s\" %(str(clf.intercept_)))"
      ],
      "metadata": {
        "colab": {
          "base_uri": "https://localhost:8080/"
        },
        "id": "ZGl_pvpzHWSE",
        "outputId": "2ab905c1-d389-44cc-e836-6549f5a82dda"
      },
      "execution_count": 16,
      "outputs": [
        {
          "output_type": "stream",
          "name": "stdout",
          "text": [
            "y_train is a list of categories: [0 0 1 ... 0 0 0] ...\n",
            "X_train has 5574 feature vectors\n",
            "y_train has 5574 target classes\n",
            "dataset has 5574 rows\n",
            "Trained MultinomialNB Classifier\n",
            "Coefficients: [[-11.39500839 -11.39500839 -11.39500839 ... -11.39500839 -11.39500839 ...\n",
            "   Intercept: [-2.00980302]\n"
          ]
        },
        {
          "output_type": "stream",
          "name": "stderr",
          "text": [
            "/usr/local/lib/python3.7/dist-packages/sklearn/utils/deprecation.py:103: FutureWarning: Attribute `coef_` was deprecated in version 0.24 and will be removed in 1.1 (renaming of 0.26).\n",
            "  warnings.warn(msg, category=FutureWarning)\n",
            "/usr/local/lib/python3.7/dist-packages/sklearn/utils/deprecation.py:103: FutureWarning: Attribute `intercept_` was deprecated in version 0.24 and will be removed in 1.1 (renaming of 0.26).\n",
            "  warnings.warn(msg, category=FutureWarning)\n"
          ]
        }
      ]
    },
    {
      "cell_type": "code",
      "source": [
        "test_messages = [\"Call MobilesDirect free on 08000938767 to update now! or2stoptxt\",\n",
        "                 \"Call now for a free trial offer!\",\n",
        "                 \"Hey Sam, want to get some pizza later?\",\n",
        "                 \"idk my bff jill?\",\n",
        "                 \"URGENT! You have won a 1 week FREE membership in our £100,000 Prize Jackpot! Txt the word: CLAIM to No: 81010 T&C www.dbuk.net LCCLTD POBOX 4403LDNW1A7RW18\"]\n",
        "                 \n",
        "# extract features from raw text documents\n",
        "C_test = cv.transform(test_messages)\n",
        "X_test = tfidf.transform(C_test)\n",
        " \n",
        "# MultinomialNB's predict classes directly\n",
        "print (\"Classified: %s\" % clf.predict(X_test))"
      ],
      "metadata": {
        "colab": {
          "base_uri": "https://localhost:8080/"
        },
        "id": "YozXjEvCDW5x",
        "outputId": "e3588157-175c-49f4-9bf8-a72c5ba3006f"
      },
      "execution_count": 18,
      "outputs": [
        {
          "output_type": "stream",
          "name": "stdout",
          "text": [
            "Classified: [0 0 0 0 1]\n"
          ]
        }
      ]
    }
  ]
}